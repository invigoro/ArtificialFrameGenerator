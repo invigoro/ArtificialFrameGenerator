{
  "nbformat": 4,
  "nbformat_minor": 0,
  "metadata": {
    "colab": {
      "provenance": [],
      "include_colab_link": true
    },
    "kernelspec": {
      "name": "python3",
      "display_name": "Python 3"
    },
    "language_info": {
      "name": "python"
    }
  },
  "cells": [
    {
      "cell_type": "markdown",
      "metadata": {
        "id": "view-in-github",
        "colab_type": "text"
      },
      "source": [
        "<a href=\"https://colab.research.google.com/github/invigoro/ArtificialFrameGenerator/blob/main/frame_functions.ipynb\" target=\"_parent\"><img src=\"https://colab.research.google.com/assets/colab-badge.svg\" alt=\"Open In Colab\"/></a>"
      ]
    },
    {
      "cell_type": "code",
      "execution_count": null,
      "metadata": {
        "id": "-AeYS-63QjMR"
      },
      "outputs": [],
      "source": [
        "import cv2 as cv\n",
        "import numpy as np\n",
        "from google.colab import drive\n",
        "from google.colab.patches import cv2_imshow"
      ]
    },
    {
      "cell_type": "code",
      "source": [
        "drive.mount('/content/drive')\n",
        "%cd drive/Shareddrives/CVProject/Colab"
      ],
      "metadata": {
        "colab": {
          "base_uri": "https://localhost:8080/"
        },
        "id": "yaPNkQMvWtaF",
        "outputId": "ae8fec38-3fc1-4d98-cedd-ee7be34ee0a9"
      },
      "execution_count": null,
      "outputs": [
        {
          "output_type": "stream",
          "name": "stdout",
          "text": [
            "Mounted at /content/drive\n",
            "/content/drive/Shareddrives/CVProject/Colab\n"
          ]
        }
      ]
    },
    {
      "cell_type": "markdown",
      "source": [
        "Remove a set number of frames"
      ],
      "metadata": {
        "id": "nY83e8_kX3Iu"
      }
    },
    {
      "cell_type": "code",
      "source": [
        "# Drops certain frames in video to decrease framerate\n",
        "# Use for testing purposes\n",
        "# Should be moved to .py file for import\n",
        "def decrease_framerate(input_path, output_path, framesPerDroppedFrame = 1, codec='mp4v'):\n",
        "\n",
        "    # framesPerDroppedFrame > 0\n",
        "    # this is the ratio of retained frames to removed frames\n",
        "    # if less than 1, there will be more frames dropped than retained\n",
        "    # if greater than 1, there will be more frames retained than dropped\n",
        "    # e.g. a value of 2 would mean 2 frames kept, 1 dropped, on repeat\n",
        "    # a value of 0.25 would mean 1 frame kept, 4 dropped, on repeat\n",
        "\n",
        "    if(framesPerDroppedFrame <= 0):\n",
        "      raise Exception(\"framesPerDroppedFrame must be greater than 0\")\n",
        "    keepMostFrames = framesPerDroppedFrame >= 1\n",
        "\n",
        "    cap = cv.VideoCapture(input_path)\n",
        "    fourcc = cv.VideoWriter_fourcc(*codec) #defaults to mp4\n",
        "    fps = int(cap.get(cv.CAP_PROP_FPS))\n",
        "    width = int(cap.get(cv.CAP_PROP_FRAME_WIDTH))\n",
        "    height = int(cap.get(cv.CAP_PROP_FRAME_HEIGHT))\n",
        "\n",
        "    output_frames = fps\n",
        "    if keepMostFrames:\n",
        "      output_frames *= framesPerDroppedFrame / float(framesPerDroppedFrame + 1)\n",
        "    else:\n",
        "      framesPerDroppedFrame**=-1\n",
        "      output_frames *= 1 / float(1 + framesPerDroppedFrame)\n",
        "\n",
        "    framesPerDroppedFrame += 1\n",
        "\n",
        "    out = cv.VideoWriter(output_path, fourcc, output_frames, (width, height))\n",
        "\n",
        "    frame_count = 0\n",
        "    while cap.isOpened():\n",
        "        ret, frame = cap.read()\n",
        "        if not ret:\n",
        "            break\n",
        "\n",
        "        if keepMostFrames and frame_count % framesPerDroppedFrame != 0:\n",
        "            out.write(frame)\n",
        "        elif not keepMostFrames and frame_count % framesPerDroppedFrame == 0:\n",
        "            out.write(frame)\n",
        "\n",
        "        frame_count += 1\n",
        "\n",
        "    #Write to file\n",
        "\n",
        "    cap.release()\n",
        "    out.release()"
      ],
      "metadata": {
        "id": "mtXKOYcJW3M0"
      },
      "execution_count": null,
      "outputs": []
    },
    {
      "cell_type": "code",
      "source": [
        "# video_path = \"gliderlowq.mp4\"\n",
        "# output_path = \"gliderlowqhalffps.mp4\"\n",
        "# video_path = \"AC_Origins_CV.mp4\"\n",
        "# output_path = \"AC_Origins_CV_15fps.mp4\"\n",
        "\n",
        "\n",
        "video_names = [\"cars.mp4\"]\n",
        "\n",
        "video_input_path = \"Video/Original/\"\n",
        "video_output_path = \"Video/Reduced/\"\n",
        "\n",
        "for v in video_names:\n",
        "  pieces = v.split('.')\n",
        "  filename = pieces[0]\n",
        "  extension = pieces[1]\n",
        "  output_name = filename + \"_superreduced.\" + extension\n",
        "  decrease_framerate(video_input_path + v, video_output_path + output_name, 0.25)\n",
        "  print(output_name + \" completed\")\n",
        "\n",
        "\n",
        "#decrease_framerate(video_path, output_path, 1)"
      ],
      "metadata": {
        "id": "XLmj1Acted6X",
        "colab": {
          "base_uri": "https://localhost:8080/"
        },
        "outputId": "31455f51-302c-4046-82ed-5b1bb224f68d"
      },
      "execution_count": null,
      "outputs": [
        {
          "output_type": "stream",
          "name": "stdout",
          "text": [
            "cars_superreduced.mp4 completed\n"
          ]
        }
      ]
    },
    {
      "cell_type": "code",
      "source": [
        "from psutil import *\n",
        "# This code will return the number of CPU\n",
        "print(\"Number of CPU: \", cpu_count())\n",
        "# This code will return the CPU info\n",
        "!cat /proc/cpuinfo"
      ],
      "metadata": {
        "id": "iLYMXbYmMxX6",
        "outputId": "04845e7d-3bd9-4ca6-d90c-12d0a5114f45",
        "colab": {
          "base_uri": "https://localhost:8080/"
        }
      },
      "execution_count": null,
      "outputs": [
        {
          "output_type": "stream",
          "name": "stdout",
          "text": [
            "Number of CPU:  2\n",
            "processor\t: 0\n",
            "vendor_id\t: GenuineIntel\n",
            "cpu family\t: 6\n",
            "model\t\t: 79\n",
            "model name\t: Intel(R) Xeon(R) CPU @ 2.20GHz\n",
            "stepping\t: 0\n",
            "microcode\t: 0xffffffff\n",
            "cpu MHz\t\t: 2199.998\n",
            "cache size\t: 56320 KB\n",
            "physical id\t: 0\n",
            "siblings\t: 2\n",
            "core id\t\t: 0\n",
            "cpu cores\t: 1\n",
            "apicid\t\t: 0\n",
            "initial apicid\t: 0\n",
            "fpu\t\t: yes\n",
            "fpu_exception\t: yes\n",
            "cpuid level\t: 13\n",
            "wp\t\t: yes\n",
            "flags\t\t: fpu vme de pse tsc msr pae mce cx8 apic sep mtrr pge mca cmov pat pse36 clflush mmx fxsr sse sse2 ss ht syscall nx pdpe1gb rdtscp lm constant_tsc rep_good nopl xtopology nonstop_tsc cpuid tsc_known_freq pni pclmulqdq ssse3 fma cx16 pcid sse4_1 sse4_2 x2apic movbe popcnt aes xsave avx f16c rdrand hypervisor lahf_lm abm 3dnowprefetch invpcid_single ssbd ibrs ibpb stibp fsgsbase tsc_adjust bmi1 hle avx2 smep bmi2 erms invpcid rtm rdseed adx smap xsaveopt arat md_clear arch_capabilities\n",
            "bugs\t\t: cpu_meltdown spectre_v1 spectre_v2 spec_store_bypass l1tf mds swapgs taa mmio_stale_data retbleed bhi\n",
            "bogomips\t: 4399.99\n",
            "clflush size\t: 64\n",
            "cache_alignment\t: 64\n",
            "address sizes\t: 46 bits physical, 48 bits virtual\n",
            "power management:\n",
            "\n",
            "processor\t: 1\n",
            "vendor_id\t: GenuineIntel\n",
            "cpu family\t: 6\n",
            "model\t\t: 79\n",
            "model name\t: Intel(R) Xeon(R) CPU @ 2.20GHz\n",
            "stepping\t: 0\n",
            "microcode\t: 0xffffffff\n",
            "cpu MHz\t\t: 2199.998\n",
            "cache size\t: 56320 KB\n",
            "physical id\t: 0\n",
            "siblings\t: 2\n",
            "core id\t\t: 0\n",
            "cpu cores\t: 1\n",
            "apicid\t\t: 1\n",
            "initial apicid\t: 1\n",
            "fpu\t\t: yes\n",
            "fpu_exception\t: yes\n",
            "cpuid level\t: 13\n",
            "wp\t\t: yes\n",
            "flags\t\t: fpu vme de pse tsc msr pae mce cx8 apic sep mtrr pge mca cmov pat pse36 clflush mmx fxsr sse sse2 ss ht syscall nx pdpe1gb rdtscp lm constant_tsc rep_good nopl xtopology nonstop_tsc cpuid tsc_known_freq pni pclmulqdq ssse3 fma cx16 pcid sse4_1 sse4_2 x2apic movbe popcnt aes xsave avx f16c rdrand hypervisor lahf_lm abm 3dnowprefetch invpcid_single ssbd ibrs ibpb stibp fsgsbase tsc_adjust bmi1 hle avx2 smep bmi2 erms invpcid rtm rdseed adx smap xsaveopt arat md_clear arch_capabilities\n",
            "bugs\t\t: cpu_meltdown spectre_v1 spectre_v2 spec_store_bypass l1tf mds swapgs taa mmio_stale_data retbleed bhi\n",
            "bogomips\t: 4399.99\n",
            "clflush size\t: 64\n",
            "cache_alignment\t: 64\n",
            "address sizes\t: 46 bits physical, 48 bits virtual\n",
            "power management:\n",
            "\n"
          ]
        }
      ]
    }
  ]
}